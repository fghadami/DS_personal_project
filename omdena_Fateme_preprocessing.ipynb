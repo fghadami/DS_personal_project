{
  "nbformat": 4,
  "nbformat_minor": 0,
  "metadata": {
    "colab": {
      "provenance": [],
      "authorship_tag": "ABX9TyP7U/+iG8UTuedENC/JnRwj",
      "include_colab_link": true
    },
    "kernelspec": {
      "name": "python3",
      "display_name": "Python 3"
    },
    "language_info": {
      "name": "python"
    }
  },
  "cells": [
    {
      "cell_type": "markdown",
      "metadata": {
        "id": "view-in-github",
        "colab_type": "text"
      },
      "source": [
        "<a href=\"https://colab.research.google.com/github/fghadami/DS_personal_projects/blob/main/omdena_Fateme_preprocessing.ipynb\" target=\"_parent\"><img src=\"https://colab.research.google.com/assets/colab-badge.svg\" alt=\"Open In Colab\"/></a>"
      ]
    },
    {
      "cell_type": "markdown",
      "source": [
        "<font size=\"5\">**Installing Packages**</font>"
      ],
      "metadata": {
        "id": "DuzWVwTn4ndv"
      }
    },
    {
      "cell_type": "code",
      "source": [
        "!pip install PyPDF2\n",
        "!pip install spacy\n",
        "!python -m spacy download en_core_web_sm\n",
        "!pip install langdetect\n",
        "!pip install textblob\n",
        "\n",
        "from IPython.display import clear_output\n",
        "clear_output()"
      ],
      "metadata": {
        "collapsed": true,
        "id": "IWHiW6ehFQU1"
      },
      "execution_count": 12,
      "outputs": []
    },
    {
      "cell_type": "code",
      "execution_count": 13,
      "metadata": {
        "id": "vedT0ZkXD9rT"
      },
      "outputs": [],
      "source": [
        "import zipfile\n",
        "from pathlib import Path\n",
        "import os\n",
        "\n",
        "import spacy\n",
        "import pandas as pd\n",
        "\n",
        "import PyPDF2\n",
        "\n",
        "import re\n",
        "from langdetect import detect\n",
        "from textblob import TextBlob"
      ]
    },
    {
      "cell_type": "markdown",
      "source": [
        "<font size=\"5\">**Helper Functions**</font>"
      ],
      "metadata": {
        "id": "E252zyAA40Ym"
      }
    },
    {
      "cell_type": "code",
      "source": [
        "def unzip_file(zip_file_path, extraction_folder):\n",
        "    with zipfile.ZipFile(zip_file_path, 'r') as zip_ref:\n",
        "        zip_ref.extractall(extraction_folder)\n",
        "\n",
        "    print(\"Unzipping complete.\")"
      ],
      "metadata": {
        "id": "T5T_Ot3EF2WZ"
      },
      "execution_count": 44,
      "outputs": []
    },
    {
      "cell_type": "code",
      "source": [
        "def extract_text_from_each_pdf(pdf_file_path):\n",
        "    text = ''\n",
        "    with open(pdf_file_path, 'rb') as f:\n",
        "        reader = PyPDF2.PdfReader(f)\n",
        "        for page_num in range(len(reader.pages)):\n",
        "          text += reader.pages[page_num].extract_text()\n",
        "    return text"
      ],
      "metadata": {
        "id": "boJ6_Z6mGNMW"
      },
      "execution_count": 45,
      "outputs": []
    },
    {
      "cell_type": "code",
      "source": [
        "def prepare_data_for_pipeline(working_directory):\n",
        "    # This function extract texts from all the PDF files in working_directory\n",
        "    # and return them as a list\n",
        "    all_files = [file for file in working_directory.iterdir() if file.is_file()]\n",
        "    text_list = []\n",
        "    for file in all_files:\n",
        "        text = extract_text_from_each_pdf(file)\n",
        "        text_list.append(text)\n",
        "    filtered_text_list = [text for text in text_list if text != '']\n",
        "    return filtered_text_list"
      ],
      "metadata": {
        "id": "kb4kqCSPHDV0"
      },
      "execution_count": 46,
      "outputs": []
    },
    {
      "cell_type": "code",
      "source": [
        "def ensure_english(text):\n",
        "    try:\n",
        "        if detect(text) != 'en':\n",
        "            raise ValueError(\"The text is not in English\")\n",
        "        return text\n",
        "    except:\n",
        "        return ''\n",
        "\n",
        "def remove_excessive_spaces(text):\n",
        "    return re.sub(r'\\s+', ' ', text).strip()\n",
        "\n",
        "def remove_special_characters(text):\n",
        "    return re.sub(r'[^\\w\\s]', '', text)\n",
        "\n",
        "def correct_ocr_errors(text):\n",
        "    text_blob = TextBlob(text)\n",
        "    corrected_text = str(text_blob.correct())  # Basic correction using TextBlob\n",
        "    return corrected_text\n",
        "\n",
        "def extract_structure(text):\n",
        "    # For simplicity, we assume that each paragraph is separated by a newline\n",
        "    paragraphs = text.split('\\n')\n",
        "\n",
        "    # Extract heading-like structures (text in all caps)\n",
        "    headings = [p for p in paragraphs if p.isupper()]\n",
        "\n",
        "    # Return raw text, cleaned paragraphs, and extracted headings\n",
        "    structured_data = {\n",
        "        'raw_text': text,\n",
        "        'paragraphs': paragraphs,\n",
        "        'headings': headings\n",
        "    }\n",
        "    return structured_data\n",
        "\n",
        "nlp = spacy.load(\"en_core_web_sm\")\n",
        "\n",
        "def get_named_entities(text):\n",
        "  doc = nlp(text)\n",
        "  return [(ent.text, ent.label_) for ent in doc.ents]"
      ],
      "metadata": {
        "id": "6U0-bsrl5Hs5"
      },
      "execution_count": 58,
      "outputs": []
    },
    {
      "cell_type": "code",
      "source": [
        "def clean_text_pipeline(text):\n",
        "    text = ensure_english(text)\n",
        "    text = remove_excessive_spaces(text)\n",
        "    text = remove_special_characters(text)\n",
        "    text = correct_ocr_errors(text)\n",
        "    return text"
      ],
      "metadata": {
        "id": "4C8WKtuV5JFP"
      },
      "execution_count": 48,
      "outputs": []
    },
    {
      "cell_type": "markdown",
      "source": [
        "<font size=\"5\">**Main Part**</font>"
      ],
      "metadata": {
        "id": "ZDbRtaCL6XrH"
      }
    },
    {
      "cell_type": "code",
      "source": [
        "zip_file_path = '/content/sample_pdfs.zip'\n",
        "extraction_folder = '/content'\n",
        "working_directory = Path.cwd() / 'sample_pdfs'"
      ],
      "metadata": {
        "id": "O3ONXd0hHDSn"
      },
      "execution_count": 49,
      "outputs": []
    },
    {
      "cell_type": "code",
      "source": [
        "unzip_file(zip_file_path, extraction_folder)"
      ],
      "metadata": {
        "colab": {
          "base_uri": "https://localhost:8080/"
        },
        "id": "u2fJAIpTHDQQ",
        "outputId": "dbad52a0-9313-4be8-8158-8cd9a70ac07d"
      },
      "execution_count": 50,
      "outputs": [
        {
          "output_type": "stream",
          "name": "stdout",
          "text": [
            "Unzipping complete.\n"
          ]
        }
      ]
    },
    {
      "cell_type": "code",
      "source": [
        "text_list = prepare_data_for_pipeline(working_directory)"
      ],
      "metadata": {
        "colab": {
          "base_uri": "https://localhost:8080/"
        },
        "id": "TRLRiJE7HDLW",
        "outputId": "29d54ef9-8f30-4320-a5f5-674b56803a78"
      },
      "execution_count": 51,
      "outputs": [
        {
          "output_type": "stream",
          "name": "stderr",
          "text": [
            "WARNING:PyPDF2._reader:incorrect startxref pointer(1)\n",
            "WARNING:PyPDF2._reader:incorrect startxref pointer(1)\n",
            "/usr/local/lib/python3.10/dist-packages/PyPDF2/_cmap.py:142: PdfReadWarning: Advanced encoding /GBK-EUC-H not implemented yet\n",
            "  warnings.warn(\n"
          ]
        }
      ]
    },
    {
      "cell_type": "code",
      "source": [
        "clean_text_list = [clean_text_pipeline(text) for text in text_list]"
      ],
      "metadata": {
        "id": "_dShpo-g5DJO"
      },
      "execution_count": 54,
      "outputs": []
    },
    {
      "cell_type": "code",
      "source": [
        "df = pd.DataFrame(clean_text_list, columns=['clean_text'])"
      ],
      "metadata": {
        "id": "JsbkHtH93K1_"
      },
      "execution_count": 55,
      "outputs": []
    },
    {
      "cell_type": "code",
      "source": [
        "df['clean_text']"
      ],
      "metadata": {
        "colab": {
          "base_uri": "https://localhost:8080/",
          "height": 742
        },
        "id": "hwHN-6iM_e7k",
        "outputId": "447516fc-778b-4840-f8f7-33d1214ec5d5"
      },
      "execution_count": 56,
      "outputs": [
        {
          "output_type": "execute_result",
          "data": {
            "text/plain": [
              "0                                                      \n",
              "1     Age 1 of 3 TEA RESEARCH INSTITUTE of SRI LANKA...\n",
              "2     Cap 2531 SRI LANKA TEA BOARD CHAPTER 253 SRI L...\n",
              "3     Age 1 of 3 TEA RESEARCH INSTITUTE of SRI LANKA...\n",
              "4                                                      \n",
              "5     Age 1 of 2 TEA RESEARCH INSTITUTE of SRI LANKA...\n",
              "6     1 TEA RESEARCH INSTITUTE of SRI LANKA Issued I...\n",
              "7     Age 1 of 3 TEA RESEARCH INSTITUTE of SRI LANKA...\n",
              "8     Ri Vanka Tea Board Amendment Act To 17 of 1985...\n",
              "9                                                      \n",
              "10    1 TEA RESEARCH INSTITUTE of SRI LANKA Issued I...\n",
              "11    1 THE TEA RESEARCH INSTITUTE of SRI LANKA Issu...\n",
              "12    Age 1 of 3 TEA RESEARCH INSTITUTE of SRI LANKA...\n",
              "13                                                     \n",
              "14                                                     \n",
              "15    PRINTED of THE DEPARTMENT of GOVERNMENT PRINTI...\n",
              "16    1 TEA RESEARCH INSTITUTE of SRI LANKA Issued I...\n",
              "17    Age 1 of 3 TEA RESEARCH INSTITUTE of SRI LANKA...\n",
              "18    1 TEA RESEARCH INSTITUTE of SRI LANKA Issued I...\n",
              "19    Age 1 of 2 TEA RESEARCH INSTITUTE of SRI LANKA...\n",
              "20    Age 1 of 4 TEA RESEARCH INSTITUTE of SRI LANKA...\n",
              "Name: clean_text, dtype: object"
            ],
            "text/html": [
              "<div>\n",
              "<style scoped>\n",
              "    .dataframe tbody tr th:only-of-type {\n",
              "        vertical-align: middle;\n",
              "    }\n",
              "\n",
              "    .dataframe tbody tr th {\n",
              "        vertical-align: top;\n",
              "    }\n",
              "\n",
              "    .dataframe thead th {\n",
              "        text-align: right;\n",
              "    }\n",
              "</style>\n",
              "<table border=\"1\" class=\"dataframe\">\n",
              "  <thead>\n",
              "    <tr style=\"text-align: right;\">\n",
              "      <th></th>\n",
              "      <th>clean_text</th>\n",
              "    </tr>\n",
              "  </thead>\n",
              "  <tbody>\n",
              "    <tr>\n",
              "      <th>0</th>\n",
              "      <td></td>\n",
              "    </tr>\n",
              "    <tr>\n",
              "      <th>1</th>\n",
              "      <td>Age 1 of 3 TEA RESEARCH INSTITUTE of SRI LANKA...</td>\n",
              "    </tr>\n",
              "    <tr>\n",
              "      <th>2</th>\n",
              "      <td>Cap 2531 SRI LANKA TEA BOARD CHAPTER 253 SRI L...</td>\n",
              "    </tr>\n",
              "    <tr>\n",
              "      <th>3</th>\n",
              "      <td>Age 1 of 3 TEA RESEARCH INSTITUTE of SRI LANKA...</td>\n",
              "    </tr>\n",
              "    <tr>\n",
              "      <th>4</th>\n",
              "      <td></td>\n",
              "    </tr>\n",
              "    <tr>\n",
              "      <th>5</th>\n",
              "      <td>Age 1 of 2 TEA RESEARCH INSTITUTE of SRI LANKA...</td>\n",
              "    </tr>\n",
              "    <tr>\n",
              "      <th>6</th>\n",
              "      <td>1 TEA RESEARCH INSTITUTE of SRI LANKA Issued I...</td>\n",
              "    </tr>\n",
              "    <tr>\n",
              "      <th>7</th>\n",
              "      <td>Age 1 of 3 TEA RESEARCH INSTITUTE of SRI LANKA...</td>\n",
              "    </tr>\n",
              "    <tr>\n",
              "      <th>8</th>\n",
              "      <td>Ri Vanka Tea Board Amendment Act To 17 of 1985...</td>\n",
              "    </tr>\n",
              "    <tr>\n",
              "      <th>9</th>\n",
              "      <td></td>\n",
              "    </tr>\n",
              "    <tr>\n",
              "      <th>10</th>\n",
              "      <td>1 TEA RESEARCH INSTITUTE of SRI LANKA Issued I...</td>\n",
              "    </tr>\n",
              "    <tr>\n",
              "      <th>11</th>\n",
              "      <td>1 THE TEA RESEARCH INSTITUTE of SRI LANKA Issu...</td>\n",
              "    </tr>\n",
              "    <tr>\n",
              "      <th>12</th>\n",
              "      <td>Age 1 of 3 TEA RESEARCH INSTITUTE of SRI LANKA...</td>\n",
              "    </tr>\n",
              "    <tr>\n",
              "      <th>13</th>\n",
              "      <td></td>\n",
              "    </tr>\n",
              "    <tr>\n",
              "      <th>14</th>\n",
              "      <td></td>\n",
              "    </tr>\n",
              "    <tr>\n",
              "      <th>15</th>\n",
              "      <td>PRINTED of THE DEPARTMENT of GOVERNMENT PRINTI...</td>\n",
              "    </tr>\n",
              "    <tr>\n",
              "      <th>16</th>\n",
              "      <td>1 TEA RESEARCH INSTITUTE of SRI LANKA Issued I...</td>\n",
              "    </tr>\n",
              "    <tr>\n",
              "      <th>17</th>\n",
              "      <td>Age 1 of 3 TEA RESEARCH INSTITUTE of SRI LANKA...</td>\n",
              "    </tr>\n",
              "    <tr>\n",
              "      <th>18</th>\n",
              "      <td>1 TEA RESEARCH INSTITUTE of SRI LANKA Issued I...</td>\n",
              "    </tr>\n",
              "    <tr>\n",
              "      <th>19</th>\n",
              "      <td>Age 1 of 2 TEA RESEARCH INSTITUTE of SRI LANKA...</td>\n",
              "    </tr>\n",
              "    <tr>\n",
              "      <th>20</th>\n",
              "      <td>Age 1 of 4 TEA RESEARCH INSTITUTE of SRI LANKA...</td>\n",
              "    </tr>\n",
              "  </tbody>\n",
              "</table>\n",
              "</div><br><label><b>dtype:</b> object</label>"
            ]
          },
          "metadata": {},
          "execution_count": 56
        }
      ]
    },
    {
      "cell_type": "code",
      "source": [
        "df['named_entities'] = df['clean_text'].apply(get_named_entities)"
      ],
      "metadata": {
        "id": "tHgzt7Cz3Kzo"
      },
      "execution_count": 59,
      "outputs": []
    },
    {
      "cell_type": "code",
      "source": [
        "df['named_entities']"
      ],
      "metadata": {
        "colab": {
          "base_uri": "https://localhost:8080/",
          "height": 742
        },
        "id": "q23bBi6z3Kxt",
        "outputId": "dedc6be2-5127-4c11-cd3e-cdd2145df301"
      },
      "execution_count": 60,
      "outputs": [
        {
          "output_type": "execute_result",
          "data": {
            "text/plain": [
              "0                                                    []\n",
              "1     [(Age 1, DATE), (3, CARDINAL), (TEA RESEARCH I...\n",
              "2     [(Cap, PERSON), (2531, DATE), (SRI LANKA TEA B...\n",
              "3     [(Age 1, DATE), (3, CARDINAL), (TEA RESEARCH I...\n",
              "4                                                    []\n",
              "5     [(Age 1, DATE), (December 2019, DATE), (Guidel...\n",
              "6     [(1 TEA RESEARCH INSTITUTE of SRI LANKA Issued...\n",
              "7     [(Age 1, DATE), (3, CARDINAL), (TEA RESEARCH I...\n",
              "8     [(Ri Vanka Tea Board Amendment Act, ORG), (17,...\n",
              "9                                                    []\n",
              "10    [(1 TEA RESEARCH INSTITUTE of SRI, MONEY), (Ma...\n",
              "11    [(1, CARDINAL), (THE TEA RESEARCH INSTITUTE of...\n",
              "12    [(Age 1, DATE), (3, CARDINAL), (TEA RESEARCH I...\n",
              "13                                                   []\n",
              "14                                                   []\n",
              "15    [(THE DEPARTMENT of GOVERNMENT PRINTING SRI LA...\n",
              "16    [(1 TEA RESEARCH INSTITUTE of SRI LANKA Issued...\n",
              "17    [(Age 1, DATE), (3, CARDINAL), (TEA RESEARCH I...\n",
              "18    [(1 TEA RESEARCH INSTITUTE of SRI LANKA Issued...\n",
              "19    [(Age 1, DATE), (July 2019, DATE), (TEA PROD U...\n",
              "20    [(Age 1, DATE), (4, CARDINAL), (TEA RESEARCH I...\n",
              "Name: named_entities, dtype: object"
            ],
            "text/html": [
              "<div>\n",
              "<style scoped>\n",
              "    .dataframe tbody tr th:only-of-type {\n",
              "        vertical-align: middle;\n",
              "    }\n",
              "\n",
              "    .dataframe tbody tr th {\n",
              "        vertical-align: top;\n",
              "    }\n",
              "\n",
              "    .dataframe thead th {\n",
              "        text-align: right;\n",
              "    }\n",
              "</style>\n",
              "<table border=\"1\" class=\"dataframe\">\n",
              "  <thead>\n",
              "    <tr style=\"text-align: right;\">\n",
              "      <th></th>\n",
              "      <th>named_entities</th>\n",
              "    </tr>\n",
              "  </thead>\n",
              "  <tbody>\n",
              "    <tr>\n",
              "      <th>0</th>\n",
              "      <td>[]</td>\n",
              "    </tr>\n",
              "    <tr>\n",
              "      <th>1</th>\n",
              "      <td>[(Age 1, DATE), (3, CARDINAL), (TEA RESEARCH I...</td>\n",
              "    </tr>\n",
              "    <tr>\n",
              "      <th>2</th>\n",
              "      <td>[(Cap, PERSON), (2531, DATE), (SRI LANKA TEA B...</td>\n",
              "    </tr>\n",
              "    <tr>\n",
              "      <th>3</th>\n",
              "      <td>[(Age 1, DATE), (3, CARDINAL), (TEA RESEARCH I...</td>\n",
              "    </tr>\n",
              "    <tr>\n",
              "      <th>4</th>\n",
              "      <td>[]</td>\n",
              "    </tr>\n",
              "    <tr>\n",
              "      <th>5</th>\n",
              "      <td>[(Age 1, DATE), (December 2019, DATE), (Guidel...</td>\n",
              "    </tr>\n",
              "    <tr>\n",
              "      <th>6</th>\n",
              "      <td>[(1 TEA RESEARCH INSTITUTE of SRI LANKA Issued...</td>\n",
              "    </tr>\n",
              "    <tr>\n",
              "      <th>7</th>\n",
              "      <td>[(Age 1, DATE), (3, CARDINAL), (TEA RESEARCH I...</td>\n",
              "    </tr>\n",
              "    <tr>\n",
              "      <th>8</th>\n",
              "      <td>[(Ri Vanka Tea Board Amendment Act, ORG), (17,...</td>\n",
              "    </tr>\n",
              "    <tr>\n",
              "      <th>9</th>\n",
              "      <td>[]</td>\n",
              "    </tr>\n",
              "    <tr>\n",
              "      <th>10</th>\n",
              "      <td>[(1 TEA RESEARCH INSTITUTE of SRI, MONEY), (Ma...</td>\n",
              "    </tr>\n",
              "    <tr>\n",
              "      <th>11</th>\n",
              "      <td>[(1, CARDINAL), (THE TEA RESEARCH INSTITUTE of...</td>\n",
              "    </tr>\n",
              "    <tr>\n",
              "      <th>12</th>\n",
              "      <td>[(Age 1, DATE), (3, CARDINAL), (TEA RESEARCH I...</td>\n",
              "    </tr>\n",
              "    <tr>\n",
              "      <th>13</th>\n",
              "      <td>[]</td>\n",
              "    </tr>\n",
              "    <tr>\n",
              "      <th>14</th>\n",
              "      <td>[]</td>\n",
              "    </tr>\n",
              "    <tr>\n",
              "      <th>15</th>\n",
              "      <td>[(THE DEPARTMENT of GOVERNMENT PRINTING SRI LA...</td>\n",
              "    </tr>\n",
              "    <tr>\n",
              "      <th>16</th>\n",
              "      <td>[(1 TEA RESEARCH INSTITUTE of SRI LANKA Issued...</td>\n",
              "    </tr>\n",
              "    <tr>\n",
              "      <th>17</th>\n",
              "      <td>[(Age 1, DATE), (3, CARDINAL), (TEA RESEARCH I...</td>\n",
              "    </tr>\n",
              "    <tr>\n",
              "      <th>18</th>\n",
              "      <td>[(1 TEA RESEARCH INSTITUTE of SRI LANKA Issued...</td>\n",
              "    </tr>\n",
              "    <tr>\n",
              "      <th>19</th>\n",
              "      <td>[(Age 1, DATE), (July 2019, DATE), (TEA PROD U...</td>\n",
              "    </tr>\n",
              "    <tr>\n",
              "      <th>20</th>\n",
              "      <td>[(Age 1, DATE), (4, CARDINAL), (TEA RESEARCH I...</td>\n",
              "    </tr>\n",
              "  </tbody>\n",
              "</table>\n",
              "</div><br><label><b>dtype:</b> object</label>"
            ]
          },
          "metadata": {},
          "execution_count": 60
        }
      ]
    },
    {
      "cell_type": "code",
      "source": [],
      "metadata": {
        "id": "35KylScp_1Sn"
      },
      "execution_count": null,
      "outputs": []
    }
  ]
}